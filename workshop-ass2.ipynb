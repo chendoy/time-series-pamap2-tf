{
 "cells": [
  {
   "cell_type": "code",
   "execution_count": null,
   "metadata": {},
   "outputs": [],
   "source": [
    "import os\n",
    "job_cancel_str=\"scancel \" + os.environ['SLURM_JOBID']\n",
    "os.system(job_cancel_str)"
   ]
  },
  {
   "cell_type": "markdown",
   "metadata": {},
   "source": [
    "# Practical Deep Learning Workshop 2021\n",
    "## Assignment 2 - Time Series\n",
    " \n",
    "### Authors:\n",
    " \n",
    "1.   Naor Kolet 205533060\n",
    "2.   Chen Doytshman 205644941"
   ]
  },
  {
   "cell_type": "markdown",
   "metadata": {},
   "source": [
    "# 0. Imports"
   ]
  },
  {
   "cell_type": "code",
   "execution_count": 1,
   "metadata": {},
   "outputs": [],
   "source": [
    "import pandas as pd\n",
    "import numpy as np\n",
    " \n",
    "# TensorFlow\n",
    "from tensorflow.keras.layers import Dense, LSTM\n",
    "from tensorflow.keras.layers import Input, BatchNormalization, Concatenate, Dropout, MaxPool2D, Flatten\n",
    "from tensorflow.keras.models import Model, load_model, Sequential\n",
    "from tensorflow.keras.utils import to_categorical\n",
    "from tensorflow.keras.callbacks import ModelCheckpoint, EarlyStopping, ReduceLROnPlateau\n",
    "import tensorflow as tf\n",
    "\n",
    "# Scikit-learn\n",
    "from sklearn.metrics import confusion_matrix, accuracy_score, classification_report\n",
    "from sklearn.model_selection import StratifiedKFold\n",
    "from sklearn.preprocessing import StandardScaler\n",
    "from sklearn.linear_model import LogisticRegression\n",
    "from sklearn.metrics import log_loss\n",
    "from sklearn.ensemble import RandomForestClassifier\n",
    "\n",
    "# Plots\n",
    "import seaborn as sns\n",
    "import matplotlib.pyplot as plt\n",
    "import matplotlib.ticker as mtick\n",
    "\n",
    "# Misc.\n",
    "import pickle\n",
    "import os\n",
    "import random\n",
    "import joblib\n",
    "# from tqdm import tqdm\n",
    "from tqdm import tqdm_notebook as tqdm\n",
    "from multiprocessing import cpu_count\n",
    "\n",
    "\n",
    "SEED = 42\n",
    "%matplotlib inline"
   ]
  },
  {
   "cell_type": "code",
   "execution_count": 2,
   "metadata": {},
   "outputs": [],
   "source": [
    "random.seed(SEED)\n",
    "np.random.seed(SEED)\n",
    "tf.random.set_seed(SEED)"
   ]
  },
  {
   "cell_type": "markdown",
   "metadata": {},
   "source": [
    "# 1. Exploratory Data Analysis (EDA)"
   ]
  },
  {
   "cell_type": "markdown",
   "metadata": {},
   "source": [
    "## a. General exploratory of the data"
   ]
  },
  {
   "cell_type": "markdown",
   "metadata": {},
   "source": [
    "### 1.1 Dataset Description"
   ]
  },
  {
   "cell_type": "markdown",
   "metadata": {},
   "source": [
    "### 1.2 Data Load"
   ]
  },
  {
   "cell_type": "markdown",
   "metadata": {},
   "source": [
    "First we will load the data to a dictionary."
   ]
  },
  {
   "cell_type": "code",
   "execution_count": 3,
   "metadata": {},
   "outputs": [],
   "source": [
    "dat_files = [_ for _ in os.listdir('./PAMAP2_Dataset/Protocol') if _.endswith(\".dat\")]\n",
    "columns = ['timestamp', 'activityID', 'heart_rate']\n",
    "columns += [f'IMU_hand{i}' for i in range(1,18)]\n",
    "columns += [f'IMU_chest{i}' for i in range(1,18)]\n",
    "columns += [f'IMU_ankle{i}' for i in range(1,18)]\n",
    "subjects = {subject.split('.')[0][-3:]: pd.read_csv(f'./PAMAP2_Dataset/Protocol/{subject}', sep=' ', names=columns) for subject in dat_files}\n",
    "\n",
    "for subject, df in subjects.items():\n",
    "    df['ID'] = subject\n",
    "    df.set_index(['ID', 'timestamp'], inplace=True)"
   ]
  },
  {
   "cell_type": "code",
   "execution_count": 4,
   "metadata": {},
   "outputs": [],
   "source": [
    "id2activity = {\n",
    "    1: 'lying',\n",
    "    2: 'sitting',\n",
    "    3: 'standing',\n",
    "    4: 'walking',\n",
    "    5: 'running',\n",
    "    6: 'cycling',\n",
    "    7: 'Nordic walking',\n",
    "    9: 'watching TV',\n",
    "    10: 'computer work',\n",
    "    11: 'car driving',\n",
    "    12: 'ascending stairs',\n",
    "    13: 'descending stairs',\n",
    "    16: 'vacuum cleaning',\n",
    "    17: 'ironing',\n",
    "    18: 'folding laundry',\n",
    "    19: 'house cleaning',\n",
    "    20: 'playing soccer',\n",
    "    24: 'rope jumping',\n",
    "    0: 'in transition'\n",
    "}"
   ]
  },
  {
   "cell_type": "markdown",
   "metadata": {},
   "source": [
    "### 1.3 Preprocessing"
   ]
  },
  {
   "cell_type": "markdown",
   "metadata": {},
   "source": [
    "According to the dataset documentation, data labeled with activityID=0 should be discarded in any kind of analysis. This data mainly covers transient activities between performing different activities."
   ]
  },
  {
   "cell_type": "code",
   "execution_count": 5,
   "metadata": {},
   "outputs": [],
   "source": [
    "def remove_zero_activity(subjects):\n",
    "    return {subject : df[df['activityID']!= 0] for subject, df in subjects.items()}\n",
    "\n",
    "subjects = remove_zero_activity(subjects)"
   ]
  },
  {
   "cell_type": "markdown",
   "metadata": {},
   "source": [
    "According to the dataset documentation, some missing values (NaNs) are present due to wireless communication dropping or due to problems with hardware setup. We will perform data imputation to fill those missing values."
   ]
  },
  {
   "cell_type": "code",
   "execution_count": 6,
   "metadata": {},
   "outputs": [],
   "source": [
    "def impute(subjects):\n",
    "    return {subject : df.interpolate(method='linear').bfill() for subject, df in subjects.items()}\n",
    "\n",
    "subjects = impute(subjects)"
   ]
  },
  {
   "cell_type": "markdown",
   "metadata": {},
   "source": [
    "The values of 'activityID' are not in a continuous range, so we will reindex those values"
   ]
  },
  {
   "cell_type": "code",
   "execution_count": 7,
   "metadata": {},
   "outputs": [
    {
     "name": "stdout",
     "output_type": "stream",
     "text": [
      "Original `activityID` values: \t[ 1  2  3  4  5  6  7 12 13 16 17 24]\n",
      "New `activityID` values: \t[ 0  1  2  3  4  5  6  7  8  9 10 11]\n"
     ]
    }
   ],
   "source": [
    "act_vals = subjects['101']['activityID'].unique()\n",
    "act_vals.sort()\n",
    "print(f\"Original `activityID` values: \\t{act_vals}\")\n",
    "act_vals_map = {n : i for i,n in enumerate(np.unique(act_vals))}\n",
    "print(f\"New `activityID` values: \\t{np.array(list(act_vals_map.values()))}\")"
   ]
  },
  {
   "cell_type": "code",
   "execution_count": 8,
   "metadata": {},
   "outputs": [],
   "source": [
    "id2activity = {act_vals_map[actId]: actStr for actId, actStr in id2activity.items() if actId in act_vals}"
   ]
  },
  {
   "cell_type": "code",
   "execution_count": 9,
   "metadata": {},
   "outputs": [],
   "source": [
    "def transform_activityId(df):\n",
    "    df['activityID'] = df['activityID'].map(act_vals_map)\n",
    "\n",
    "_ = [transform_activityId(df) for df in subjects.values()]"
   ]
  },
  {
   "cell_type": "markdown",
   "metadata": {},
   "source": [
    "### 1.4 Data size, structure, samples, etc."
   ]
  },
  {
   "cell_type": "code",
   "execution_count": 10,
   "metadata": {
    "scrolled": true
   },
   "outputs": [
    {
     "name": "stdout",
     "output_type": "stream",
     "text": [
      "We have 9 subjects in our dataset.\n",
      "Each subject is being measured by 53 metrics.\n",
      "\n",
      "Number of samples varies across subjects as follows:\n",
      "----------------------------------------------------\n",
      "Subject 101 has 249957 samples\n",
      "Subject 102 has 263349 samples\n",
      "Subject 103 has 174338 samples\n",
      "Subject 104 has 231421 samples\n",
      "Subject 105 has 272442 samples\n",
      "Subject 106 has 250096 samples\n",
      "Subject 107 has 232776 samples\n",
      "Subject 108 has 262102 samples\n",
      "Subject 109 has 6391 samples\n"
     ]
    }
   ],
   "source": [
    "print(f'We have {len(subjects)} subjects in our dataset.')\n",
    "print(f'Each subject is being measured by {list(subjects.values())[0].shape[1]} metrics.')\n",
    "print()\n",
    "print('Number of samples varies across subjects as follows:')\n",
    "print('----------------------------------------------------')\n",
    "_ = [print(f'Subject {subject} has {df.shape[0]} samples') for subject, df in subjects.items()]"
   ]
  },
  {
   "cell_type": "code",
   "execution_count": null,
   "metadata": {},
   "outputs": [],
   "source": [
    "_ = sns.barplot(x=list(subjects.keys()), y=[subject.shape[0] for subject in subjects.values()])"
   ]
  },
  {
   "cell_type": "code",
   "execution_count": null,
   "metadata": {},
   "outputs": [],
   "source": [
    "fig, ax = plt.subplots(nrows=3, ncols=3, figsize=(14,14))\n",
    "fig.subplots_adjust(hspace=0.8, wspace=0.5)\n",
    "fig.suptitle(f'Activities distributions')\n",
    "\n",
    "for i in range(3):\n",
    "    for j in range(3):\n",
    "        curr_subject = i*3 + j + 1\n",
    "        curr_subject = f'10{curr_subject}'\n",
    "        subject_df = subjects[curr_subject]\n",
    "        sns.countplot(x=subject_df['activityID'].map(id2activity), ax=ax[i][j])\n",
    "        ax[i][j].set_title(f'subject{curr_subject}')\n",
    "        ax[i][j].tick_params(axis='x', labelrotation= 90)"
   ]
  },
  {
   "cell_type": "markdown",
   "metadata": {},
   "source": [
    "One intersting feature of this dataset is heart rate. Let's see how it varies depending on the activity."
   ]
  },
  {
   "cell_type": "code",
   "execution_count": null,
   "metadata": {},
   "outputs": [],
   "source": [
    "sns.set_theme(style='white')\n",
    "\n",
    "joint = sns.jointplot(data=subjects['102'],\n",
    "                x='timestamp', \n",
    "                y='heart_rate', \n",
    "                hue=subjects['102']['activityID'].map(id2activity), \n",
    "                palette='deep')\n",
    "joint.fig.set_figwidth(10)\n",
    "joint.fig.set_figheight(10)"
   ]
  },
  {
   "cell_type": "markdown",
   "metadata": {},
   "source": [
    "### Benchmarks\n",
    "\n",
    "We identified several benchmark results torely on.\n",
    "\n",
    "\n",
    "\n",
    "1.  [ Colegues from previous semester](https://www.kaggle.com/roylevy/pamap2-roy-yuval) class achieved 59.96% accuracy on the test set in their last attempt to build a LSTM model.\n",
    "2.   [Another work](https://www.kaggle.com/avrahamcalev/time-series-models-pamap2-dataset) from previous semester achieved 92.54% accuracy on the test data, using a combination of LSTM, intermediate dense layers and dropout regularization.\n",
    "3. \n",
    "\n"
   ]
  },
  {
   "cell_type": "markdown",
   "metadata": {},
   "source": [
    "## b. Explain the task at hand"
   ]
  },
  {
   "cell_type": "markdown",
   "metadata": {},
   "source": [
    "We will define the task as a classification task.\n",
    "Since the order of the activities is known beforehand there is no need to predict the future activity given the past or the other way around.\n",
    "We will divide the samples into time series, each record will have one unique activity.\n",
    "Our mission will be, given the measurements, to predict the activity. "
   ]
  },
  {
   "cell_type": "markdown",
   "metadata": {},
   "source": [
    "## c. State self-supervised tasks "
   ]
  },
  {
   "cell_type": "code",
   "execution_count": null,
   "metadata": {},
   "outputs": [],
   "source": [
    "d = subjects['102'][:2000]\n",
    "# _ = plt.plot(d['heart_rate'].values)\n",
    "# _ = plt.plot(d['IMU_hand2'])\n",
    "# _ = plt.plot(d['IMU_hand3'])\n",
    "# _ = plt.plot(d['IMU_hand4'])\n",
    "_ = plt.plot(d['IMU_hand8'].values)\n",
    "_ = plt.plot(d['IMU_hand9'].values)\n",
    "_ = plt.plot(d['IMU_hand10'].values)\n"
   ]
  },
  {
   "cell_type": "markdown",
   "metadata": {},
   "source": [
    "1. \n",
    "2. task2"
   ]
  },
  {
   "cell_type": "markdown",
   "metadata": {},
   "source": [
    "# 2. Forming neural network"
   ]
  },
  {
   "cell_type": "markdown",
   "metadata": {},
   "source": [
    "## a. The validation strategy "
   ]
  },
  {
   "cell_type": "markdown",
   "metadata": {},
   "source": [
    "We have data regarding 9 subjects. As stated in the assignment specification, subjects 107, 108 will be used as our test set. For validation set will will use another two random subjects. It is convinient and easy to understand, and ressembles the test set."
   ]
  },
  {
   "cell_type": "code",
   "execution_count": 11,
   "metadata": {},
   "outputs": [
    {
     "name": "stdout",
     "output_type": "stream",
     "text": [
      "train subjects:\t\t 102 103 104 105 109\n",
      "validation subjects:\t 106 101\n",
      "test subjects:\t\t 107 108\n"
     ]
    }
   ],
   "source": [
    "sbjcts = list(subjects.keys())\n",
    "val_size = 2\n",
    "\n",
    "test_subjects = ['107', '108']\n",
    "random.seed(SEED)\n",
    "val_subjects = random.sample([sbj for sbj in sbjcts if sbj not in test_subjects], val_size)\n",
    "\n",
    "train_subjects = [sbj for sbj in sbjcts if sbj not in test_subjects+val_subjects]\n",
    "\n",
    "print('train subjects:\\t\\t', \" \".join(train_subjects))\n",
    "print('validation subjects:\\t', \" \".join(val_subjects))\n",
    "print('test subjects:\\t\\t', \" \".join(test_subjects))"
   ]
  },
  {
   "cell_type": "markdown",
   "metadata": {},
   "source": [
    "### Preprocessing for models"
   ]
  },
  {
   "cell_type": "code",
   "execution_count": 12,
   "metadata": {},
   "outputs": [
    {
     "data": {
      "text/plain": [
       "ColumnTransformer(remainder=StandardScaler(),\n",
       "                  transformers=[('passthrough', 'passthrough', ['activityID'])])"
      ]
     },
     "execution_count": 12,
     "metadata": {},
     "output_type": "execute_result"
    }
   ],
   "source": [
    "def scale_dataframe(data, scaler):\n",
    "    return pd.DataFrame(scaler.transform(data), index=data.index, columns=data.columns)\n",
    "\n",
    "from sklearn.compose import make_column_transformer\n",
    "\n",
    "ct = make_column_transformer(\n",
    "        ('passthrough', ['activityID']),\n",
    "    remainder=StandardScaler())\n",
    "\n",
    "ct.fit(pd.concat([subjects[subject] for subject in train_subjects]))"
   ]
  },
  {
   "cell_type": "code",
   "execution_count": 13,
   "metadata": {},
   "outputs": [],
   "source": [
    "train_subjects_df = {subject: scale_dataframe(subjects[subject], ct) for subject in train_subjects}\n",
    "val_subjects_df = {subject: scale_dataframe(subjects[subject], ct) for subject in val_subjects}\n",
    "test_subjects_df = {subject: scale_dataframe(subjects[subject], ct) for subject in test_subjects}"
   ]
  },
  {
   "cell_type": "code",
   "execution_count": 14,
   "metadata": {},
   "outputs": [],
   "source": [
    "for dfs_dict in [train_subjects_df, val_subjects_df, test_subjects_df]:\n",
    "    for df in dfs_dict.values():\n",
    "        df.activityID = df.activityID.astype('int64')"
   ]
  },
  {
   "cell_type": "markdown",
   "metadata": {},
   "source": [
    "## b. Naive basline solution - Logistic Regression"
   ]
  },
  {
   "cell_type": "code",
   "execution_count": null,
   "metadata": {},
   "outputs": [],
   "source": [
    "def naive_split_x_y(df):\n",
    "    return df.drop('activityID', axis = 1).values, df['activityID'].values"
   ]
  },
  {
   "cell_type": "code",
   "execution_count": null,
   "metadata": {},
   "outputs": [],
   "source": [
    "def naive_split_train_val_test():\n",
    "    train = pd.concat(train_subjects_df)\n",
    "    train_x, train_y = naive_split_x_y(train)\n",
    "    \n",
    "    val = pd.concat(val_subjects_df)\n",
    "    val_x, val_y = naive_split_x_y(val)\n",
    "    \n",
    "    test = pd.concat(test_subjects_df)\n",
    "    test_x, test_y = naive_split_x_y(test)\n",
    "    \n",
    "    return train_x, train_y, val_x, val_y, test_x, test_y"
   ]
  },
  {
   "cell_type": "code",
   "execution_count": null,
   "metadata": {},
   "outputs": [],
   "source": [
    "naive_train_x, naive_train_y, naive_val_x, naive_val_y, naive_test_x, naive_test_y = naive_split_train_val_test()\n",
    "\n",
    "naive_train_x = np.append(naive_train_x, naive_val_x, axis=0)\n",
    "naive_train_y = np.append(naive_train_y, naive_val_y, axis=0)"
   ]
  },
  {
   "cell_type": "code",
   "execution_count": null,
   "metadata": {},
   "outputs": [],
   "source": [
    "use_saved = True\n",
    "\n",
    "if use_saved:\n",
    "    lr_model = joblib.load('./models/lr_model.sav')\n",
    "else:\n",
    "    lr_model = LogisticRegression(random_state=SEED, n_jobs=-1)\n",
    "    lr_model.fit(naive_train_x, naive_train_y)\n",
    "    joblib.dump(lr_model, './models/lr_model.sav')"
   ]
  },
  {
   "cell_type": "code",
   "execution_count": null,
   "metadata": {},
   "outputs": [],
   "source": [
    "train_preds = lr_model.predict(naive_train_x)\n",
    "test_preds = lr_model.predict(naive_test_x)\n",
    "\n",
    "test_loss = log_loss(naive_test_y, lr_model.predict_proba(naive_test_x), eps=1e-15)\n",
    "train_loss = log_loss(naive_train_y, lr_model.predict_proba(naive_train_x), eps=1e-15)\n",
    "\n",
    "print(f\"Logistic Regression: Train Accuracy - {accuracy_score(train_preds, naive_train_y)*100}%  Train loss - {train_loss}\")\n",
    "print(f\"Logistic Regression: Test Accuracy - {accuracy_score(test_preds, naive_test_y)*100}%  Test loss - {test_loss}\")"
   ]
  },
  {
   "cell_type": "markdown",
   "metadata": {},
   "source": [
    "## c. Solid Benchmark - Random forest"
   ]
  },
  {
   "cell_type": "code",
   "execution_count": null,
   "metadata": {},
   "outputs": [],
   "source": [
    "use_saved = True\n",
    "\n",
    "if use_saved:\n",
    "    rf_model = joblib.laod('./models/rf_model.sav')\n",
    "else:\n",
    "    rf_model = RandomForestClassifier(random_state=SEED, n_jobs=-1)\n",
    "    rf_model.fit(naive_train_x, naive_train_y)\n",
    "    joblib.dump(rf_model, './models/rf_model.sav')"
   ]
  },
  {
   "cell_type": "code",
   "execution_count": null,
   "metadata": {},
   "outputs": [],
   "source": [
    "train_preds = rf_model.predict(naive_train_x)\n",
    "test_preds = rf_model.predict(naive_test_x)\n",
    "\n",
    "test_loss = log_loss(naive_test_y, rf_model.predict_proba(naive_test_x), eps=1e-15)\n",
    "train_loss = log_loss(naive_train_y, rf_model.predict_proba(naive_train_x), eps=1e-15)\n",
    "\n",
    "print(f\"Random Forest: Accuracy - {accuracy_score(train_preds, naive_train_y)*100}%  loss - {train_loss}\")\n",
    "print(f\"Random Forest: Accuracy - {accuracy_score(test_preds, naive_test_y)*100}%  loss - {test_loss}\")"
   ]
  },
  {
   "cell_type": "markdown",
   "metadata": {},
   "source": [
    "## d. Neural Network Model"
   ]
  },
  {
   "cell_type": "code",
   "execution_count": 15,
   "metadata": {},
   "outputs": [],
   "source": [
    "def split_x_y(df, look_back):\n",
    "    num_of_series = df.shape[0] - look_back + 1\n",
    "    x = []\n",
    "    y = []\n",
    "    \n",
    "    for i in tqdm(range(num_of_series)):\n",
    "        serie = df.iloc[i:i+look_back]\n",
    "        if serie['activityID'].nunique() == 1:\n",
    "            activity = serie['activityID'].unique()[0]\n",
    "            x += [serie.values]\n",
    "            y += [activity]\n",
    "\n",
    "    return np.array(x), np.array(y)"
   ]
  },
  {
   "cell_type": "code",
   "execution_count": 16,
   "metadata": {},
   "outputs": [],
   "source": [
    "def split_x_y_list(dfs, look_back):\n",
    "    xs = []\n",
    "    ys = []\n",
    "    sbjcts = list(dfs.keys())\n",
    "    \n",
    "    for subject in sbjcts:\n",
    "        print(f'-----{subject}------')\n",
    "        x, y = split_x_y(dfs[subject], look_back)\n",
    "        xs += [x]\n",
    "        ys += [y]\n",
    "        del dfs[subject]\n",
    "        \n",
    "    return np.concatenate(xs), np.concatenate(ys)"
   ]
  },
  {
   "cell_type": "code",
   "execution_count": 17,
   "metadata": {},
   "outputs": [],
   "source": [
    "def split_train_val_test(look_back):\n",
    "    train_x, train_y = split_x_y_list(train_subjects_df, look_back)\n",
    "    \n",
    "    val_x, val_y = split_x_y_list(val_subjects_df, look_back)\n",
    "    \n",
    "    test_x, test_y = split_x_y_list(test_subjects_df, look_back)\n",
    "    \n",
    "    return train_x, train_y, val_x, val_y, test_x, test_y"
   ]
  },
  {
   "cell_type": "code",
   "execution_count": 18,
   "metadata": {},
   "outputs": [],
   "source": [
    "use_saved = True\n",
    "look_back = 10\n",
    "\n",
    "if use_saved:\n",
    "    train_x, train_y, val_x, val_y, test_x, test_y = joblib.load(f'./objects/nn_splits_lb{look_back}.sav')\n",
    "else:\n",
    "    train_x, train_y, val_x, val_y, test_x, test_y = split_train_val_test(look_back)\n",
    "    joblib.dump((train_x, train_y, val_x, val_y, test_x, test_y), f'./objects/nn_splits_lb{look_back}.sav')\n",
    "    \n",
    "train_y_onehot = to_categorical(train_y)\n",
    "val_y_onehot = to_categorical(val_y)\n",
    "test_y_onehot = to_categorical(test_y)"
   ]
  },
  {
   "cell_type": "code",
   "execution_count": 19,
   "metadata": {},
   "outputs": [],
   "source": [
    "def get_callbacks(model_name):\n",
    "    acc = 'val_acc' if not model_name.startswith('ss') else 'val_loss'\n",
    "    acc_mode = 'max' if not model_name.startswith('ss') else 'min'\n",
    "    \n",
    "    checkpoint = ModelCheckpoint(\n",
    "                              fr'./models/{model_name}.h5', \n",
    "                              monitor=acc, \n",
    "#                               verbose=1, \n",
    "                              save_best_only=True, \n",
    "                              mode=acc_mode)\n",
    "    earlystop = EarlyStopping(monitor=acc, mode=acc_mode, verbose=1, patience=4)\n",
    "    reduceLR = ReduceLROnPlateau(monitor = 'val_loss', mode = 'min', patience = 3,\n",
    "                            factor = 0.5, min_lr = 1e-6, verbose = 1)\n",
    "\n",
    "    return [checkpoint, reduceLR, earlystop]"
   ]
  },
  {
   "cell_type": "code",
   "execution_count": 20,
   "metadata": {},
   "outputs": [],
   "source": [
    "def train_model(model_gen, args=None, batch_size=8192, use_saved=False):\n",
    "    os.makedirs('./models', exist_ok=True)\n",
    "    model_name = model_gen.__name__[5:]\n",
    "    \n",
    "    train, val, test = ((train_x,train_y_onehot), (val_x,val_y_onehot), (test_x,test_y_onehot))\n",
    "    if args:\n",
    "        train, val, test = args\n",
    "        \n",
    "    if use_saved:\n",
    "        history = joblib.load(fr'./models/{model_name}_history.sav')\n",
    "    else:\n",
    "        callbacks = get_callbacks(model_name)\n",
    "            \n",
    "        history = model_gen(train[0].shape[1:], train[1].shape[1]).fit(x=train[0],\n",
    "                    y=train[1],\n",
    "                    batch_size=batch_size,\n",
    "                    epochs=20,\n",
    "                    validation_data=(val[0], val[1]),\n",
    "                    callbacks=callbacks\n",
    "                    )\n",
    "        \n",
    "        history = history.history\n",
    "        joblib.dump(history, fr'./models/{model_name}_history.sav')\n",
    "    \n",
    "    model = load_model(fr'./models/{model_name}.h5')\n",
    "\n",
    "    # Generate generalization metrics\n",
    "    scores = model.evaluate(val[0], val[1], verbose=1)\n",
    "    score1 = f'{scores[1]:.2f}' if model.metrics_names[1] != 'acc' else f'{100*scores[1]:.2f}%'\n",
    "    print(f'\\nScore on validation: {model.metrics_names[0]} of {scores[0]:.2f} ; {model.metrics_names[1]} of {score1}')\n",
    "    print(\"\")\n",
    "    scores = model.evaluate(test[0], test[1], verbose=1)\n",
    "    score1 = f'{scores[1]:.2f}' if model.metrics_names[1] != 'acc' else f'{100*scores[1]:.2f}%'\n",
    "    print(f'\\nScore on Test: {model.metrics_names[0]} of {scores[0]:.2f} ; {model.metrics_names[1]} of {score1}')\n",
    "    print(\"\")\n",
    "\n",
    "    \n",
    "    return model, history"
   ]
  },
  {
   "cell_type": "code",
   "execution_count": null,
   "metadata": {},
   "outputs": [],
   "source": [
    "def init_model_v1(input_shape, output_shape):\n",
    "\n",
    "    inp = Input(shape=input_shape)\n",
    "    X = LSTM(16)(inp)\n",
    "    out = Dense(output_shape, activation='softmax')(X)\n",
    "\n",
    "    model = Model(inp, outputs=out)\n",
    "\n",
    "    model.compile(optimizer='adam', loss='categorical_crossentropy', metrics=['acc'])\n",
    "\n",
    "    return model"
   ]
  },
  {
   "cell_type": "code",
   "execution_count": null,
   "metadata": {},
   "outputs": [],
   "source": [
    "model_v1 = init_model_v1(train_x.shape[1:], train_y_onehot.shape[1])\n",
    "model_v1.summary()"
   ]
  },
  {
   "cell_type": "code",
   "execution_count": null,
   "metadata": {},
   "outputs": [],
   "source": [
    "model_v1, history_v1 = train_model(init_model_v1,\n",
    "                                   batch_size=512, \n",
    "                                   use_saved=True)"
   ]
  },
  {
   "cell_type": "code",
   "execution_count": 21,
   "metadata": {},
   "outputs": [],
   "source": [
    "def visualize_perf(h):\n",
    "    fig, ax = plt.subplots(nrows=1, ncols=2, figsize=(10,5))\n",
    "    fig.subplots_adjust(hspace=0.3, wspace=0.3)\n",
    "    fig.suptitle(f'Model performance over epochs')\n",
    "\n",
    "    for k in ['loss', 'val_loss']:\n",
    "        ax[0].plot(h[k])\n",
    "        ax[0].legend(['train_loss', 'val_loss'])\n",
    "        ax[0].margins(0.02)\n",
    "        ax[0].set_title(f'Loss')\n",
    "\n",
    "    for k in ['acc', 'val_acc']:\n",
    "        ax[1].plot(h[k])\n",
    "        ax[1].legend(['train_acc', 'val_acc'])\n",
    "        ax[1].margins(0.02)\n",
    "        ax[1].set_title(f'Accuracy')"
   ]
  },
  {
   "cell_type": "code",
   "execution_count": null,
   "metadata": {},
   "outputs": [],
   "source": [
    "visualize_perf(history_v1)"
   ]
  },
  {
   "cell_type": "code",
   "execution_count": 22,
   "metadata": {},
   "outputs": [],
   "source": [
    "def visualize_over_dataset(model):\n",
    "    scores_train = model.evaluate(train_x, train_y_onehot, verbose=0)\n",
    "    scores_val = model.evaluate(val_x, val_y_onehot, verbose=0)\n",
    "    scores_test = model.evaluate(test_x, test_y_onehot, verbose=0)\n",
    "    scores = [scores_train, scores_val, scores_test]\n",
    "    df = pd.DataFrame(scores, index=['train', 'validation', 'test'], columns=model.metrics_names)\n",
    "    df['acc'] = df['acc']*100\n",
    "    df.rename({'acc': 'accuracy'}, axis=1, inplace=True)\n",
    "    \n",
    "    fig, ax = plt.subplots(nrows=1, ncols=2, figsize=(16,5))\n",
    "    fig.subplots_adjust(hspace=0.5, wspace=0.2)\n",
    "\n",
    "    sns.barplot(x=df.index, y='loss', data=df, ax=ax[0])\n",
    "    sns.barplot(x=df.index, y='accuracy', data=df, ax=ax[1])\n",
    "    ax[1].yaxis.set_major_formatter(mtick.PercentFormatter())"
   ]
  },
  {
   "cell_type": "code",
   "execution_count": null,
   "metadata": {},
   "outputs": [],
   "source": [
    "visualize_over_dataset(model_v1)"
   ]
  },
  {
   "cell_type": "markdown",
   "metadata": {},
   "source": [
    "## e. Use Pretrained Model on Self-Supervised Task"
   ]
  },
  {
   "cell_type": "markdown",
   "metadata": {},
   "source": [
    "predicting temprature and first acceleration data of the chest"
   ]
  },
  {
   "cell_type": "code",
   "execution_count": 23,
   "metadata": {},
   "outputs": [
    {
     "data": {
      "text/plain": [
       "['IMU_chest1', 'IMU_chest2', 'IMU_chest3', 'IMU_chest4']"
      ]
     },
     "execution_count": 23,
     "metadata": {},
     "output_type": "execute_result"
    }
   ],
   "source": [
    "list(subjects['102'].columns[1:])[18:22]"
   ]
  },
  {
   "cell_type": "code",
   "execution_count": 76,
   "metadata": {},
   "outputs": [],
   "source": [
    "def ss_split_x_y(orig_x):\n",
    "    l_serie = orig_x.shape[0]\n",
    "    lookback = 4\n",
    "    prd_mild = 2\n",
    "    lookfrwd = 4\n",
    "    \n",
    "    x = np.concatenate([orig_x[:,:lookback,:], orig_x[:,lookback+prd_mild:,:]], axis=1)\n",
    "    y = orig_x[:,lookback:lookback+prd_mild, 18:22]\n",
    "    y = y.reshape(y.shape[0],-1)\n",
    "    \n",
    "    return x, y"
   ]
  },
  {
   "cell_type": "code",
   "execution_count": 77,
   "metadata": {},
   "outputs": [],
   "source": [
    "ss_train_x, ss_train_y = ss_split_x_y(train_x)\n",
    "ss_val_x, ss_val_y = ss_split_x_y(val_x)\n",
    "ss_test_x, ss_test_y = ss_split_x_y(test_x)"
   ]
  },
  {
   "cell_type": "code",
   "execution_count": 80,
   "metadata": {},
   "outputs": [],
   "source": [
    "def init_ss_model(input_shape, output_shape):\n",
    "\n",
    "    inp = Input(shape=input_shape)\n",
    "    X = LSTM(128)(inp)\n",
    "    X = BatchNormalization()(X)\n",
    "    X = Dropout(0.2)(X)\n",
    "    X = Dense(64, activation='relu')(X)\n",
    "    X = BatchNormalization()(X)\n",
    "    X = Dropout(0.2)(X)\n",
    "    X = Dense(32, activation='relu')(X)\n",
    "    X = BatchNormalization()(X)\n",
    "    X = Dropout(0.2)(X)\n",
    "    out = Dense(output_shape, activation='relu')(X)\n",
    "\n",
    "    model = Model(inp, outputs=out)\n",
    "\n",
    "    model.compile(optimizer='adam', loss='mse', metrics=['mae'])\n",
    "\n",
    "    return model"
   ]
  },
  {
   "cell_type": "code",
   "execution_count": 81,
   "metadata": {},
   "outputs": [
    {
     "name": "stdout",
     "output_type": "stream",
     "text": [
      "Epoch 1/20\n",
      "926/926 [==============================] - 78s 84ms/step - loss: 0.6411 - mae: 0.5557 - val_loss: 0.6911 - val_mae: 0.4928 - lr: 0.0010\n",
      "Epoch 2/20\n",
      "926/926 [==============================] - 76s 82ms/step - loss: 0.5706 - mae: 0.4902 - val_loss: 0.6607 - val_mae: 0.4727 - lr: 0.0010\n",
      "Epoch 3/20\n",
      "926/926 [==============================] - 76s 82ms/step - loss: 0.5627 - mae: 0.4775 - val_loss: 0.6586 - val_mae: 0.4695 - lr: 0.0010\n",
      "Epoch 4/20\n",
      "926/926 [==============================] - 76s 82ms/step - loss: 0.5585 - mae: 0.4710 - val_loss: 0.6516 - val_mae: 0.4622 - lr: 0.0010\n",
      "Epoch 5/20\n",
      "926/926 [==============================] - 76s 82ms/step - loss: 0.5557 - mae: 0.4658 - val_loss: 0.6434 - val_mae: 0.4567 - lr: 0.0010\n",
      "Epoch 6/20\n",
      "926/926 [==============================] - 76s 82ms/step - loss: 0.5533 - mae: 0.4620 - val_loss: 0.6467 - val_mae: 0.4588 - lr: 0.0010\n",
      "Epoch 7/20\n",
      "926/926 [==============================] - 76s 82ms/step - loss: 0.5517 - mae: 0.4591 - val_loss: 0.6366 - val_mae: 0.4493 - lr: 0.0010\n",
      "Epoch 8/20\n",
      "926/926 [==============================] - 76s 82ms/step - loss: 0.5503 - mae: 0.4566 - val_loss: 0.6345 - val_mae: 0.4492 - lr: 0.0010\n",
      "Epoch 9/20\n",
      "926/926 [==============================] - 76s 82ms/step - loss: 0.5492 - mae: 0.4548 - val_loss: 0.6324 - val_mae: 0.4521 - lr: 0.0010\n",
      "Epoch 10/20\n",
      "926/926 [==============================] - 76s 82ms/step - loss: 0.5488 - mae: 0.4539 - val_loss: 0.6346 - val_mae: 0.4499 - lr: 0.0010\n",
      "Epoch 11/20\n",
      "926/926 [==============================] - 76s 82ms/step - loss: 0.5478 - mae: 0.4520 - val_loss: 0.6243 - val_mae: 0.4360 - lr: 0.0010\n",
      "Epoch 12/20\n",
      "926/926 [==============================] - 76s 82ms/step - loss: 0.5472 - mae: 0.4509 - val_loss: 0.6235 - val_mae: 0.4391 - lr: 0.0010\n",
      "Epoch 13/20\n",
      "926/926 [==============================] - 76s 82ms/step - loss: 0.5467 - mae: 0.4500 - val_loss: 0.6209 - val_mae: 0.4355 - lr: 0.0010\n",
      "Epoch 14/20\n",
      "926/926 [==============================] - 77s 83ms/step - loss: 0.5464 - mae: 0.4497 - val_loss: 0.6252 - val_mae: 0.4401 - lr: 0.0010\n",
      "Epoch 15/20\n",
      "926/926 [==============================] - 76s 82ms/step - loss: 0.5459 - mae: 0.4488 - val_loss: 0.6261 - val_mae: 0.4446 - lr: 0.0010\n",
      "Epoch 16/20\n",
      "925/926 [============================>.] - ETA: 0s - loss: 0.5458 - mae: 0.4486\n",
      "Epoch 00016: ReduceLROnPlateau reducing learning rate to 0.0005000000237487257.\n",
      "926/926 [==============================] - 76s 82ms/step - loss: 0.5458 - mae: 0.4486 - val_loss: 0.6224 - val_mae: 0.4372 - lr: 0.0010\n",
      "Epoch 17/20\n",
      "926/926 [==============================] - 76s 82ms/step - loss: 0.5450 - mae: 0.4468 - val_loss: 0.6224 - val_mae: 0.4393 - lr: 5.0000e-04\n",
      "Epoch 00017: early stopping\n",
      "15619/15619 [==============================] - 52s 3ms/step - loss: 0.6209 - mean_absolute_error: 0.4355\n",
      "\n",
      "Score on validation: loss of 0.62 ; mean_absolute_error of 0.44\n",
      "\n",
      "15458/15458 [==============================] - 52s 3ms/step - loss: 0.5571 - mean_absolute_error: 0.4324\n",
      "\n",
      "Score on Test: loss of 0.56 ; mean_absolute_error of 0.43\n",
      "\n"
     ]
    }
   ],
   "source": [
    "ss_model, ss_history = train_model(init_ss_model,\n",
    "                                   args=(\n",
    "                                       (ss_train_x, ss_train_y),\n",
    "                                       (ss_val_x, ss_val_y),\n",
    "                                       (ss_test_x, ss_test_y)\n",
    "                                        ),\n",
    "                                   batch_size=1024,\n",
    "                                   use_saved=False)"
   ]
  },
  {
   "cell_type": "code",
   "execution_count": null,
   "metadata": {},
   "outputs": [],
   "source": [
    "def init_trans_model(input_shape, output_shape):\n",
    "    for layer in ss_model.layers:\n",
    "        layer.trainable = False\n",
    "    \n",
    "    inp = ss_model.input\n",
    "    X = ss_model.layers[-2].output\n",
    "    X = Dense(32, activation='relu')(X)\n",
    "    X = BatchNormalization()(X)\n",
    "    X = Dropout(0.5)(X)\n",
    "    X = Dense(16, activation='relu')(X)\n",
    "    X = BatchNormalization()(X)\n",
    "    X = Dropout(0.3)(X)\n",
    "    out = Dense(output_shape, activation='softmax')(X)\n",
    "    \n",
    "    model = Model(inp, outputs=out)\n",
    "\n",
    "    model.compile(optimizer='adam', loss='categorical_crossentropy', metrics=['acc'])\n",
    "\n",
    "    return model"
   ]
  },
  {
   "cell_type": "code",
   "execution_count": null,
   "metadata": {},
   "outputs": [],
   "source": [
    "trans_model, trans_history = train_model(init_trans_model,\n",
    "                                   args=(\n",
    "                                       (ss_train_x, train_y_onehot),\n",
    "                                       (ss_val_x, val_y_onehot),\n",
    "                                       (ss_test_x, test_y_onehot)\n",
    "                                        ),\n",
    "                                   batch_size=1024,\n",
    "                                   use_saved=False)"
   ]
  },
  {
   "cell_type": "markdown",
   "metadata": {},
   "source": [
    "## f. Three Ways to Improve Our Model\n",
    "\n",
    "Observing the results of ```model_v1``` we can surely see that out model suffer from overfitting. Thus, one improvemnt we can immediately suggest is add regularization to better generalize. In addition, out ```model_v1``` is quite basic (as  expected from the first iteration of a solution) so we wish to use more tools we learned in class to come up with more complex model. One more thing we consider as improvemnet is enlarging the ```look_back``` parameter.\n",
    "\n",
    "```TODO: improvement we won't implement```\n",
    "\n",
    "Thus, we suggest 3 ways of improving our model:\n",
    "\n",
    "- [X] Add regularizations - Dropout, BatchNormalization.\n",
    "- [X] Improving the model architecture - more layers, bigger layers.\n",
    "- [X] Enlarging our ```look_back``` parameter."
   ]
  },
  {
   "cell_type": "markdown",
   "metadata": {},
   "source": [
    "## g. Improved Neural Network Model"
   ]
  },
  {
   "cell_type": "code",
   "execution_count": 3,
   "metadata": {},
   "outputs": [],
   "source": [
    "use_saved = True\n",
    "look_back = 20\n",
    "\n",
    "if use_saved:\n",
    "    train_x, train_y, val_x, val_y, test_x, test_y = joblib.load(f'./objects/nn_splits_lb{look_back}.sav')\n",
    "else:\n",
    "    train_x, train_y, val_x, val_y, test_x, test_y = split_train_val_test(look_back)\n",
    "    joblib.dump((train_x, train_y, val_x, val_y, test_x, test_y), f'./objects/nn_splits_lb{look_back}.sav')\n",
    "    \n",
    "train_y_onehot = to_categorical(train_y)\n",
    "val_y_onehot = to_categorical(val_y)\n",
    "test_y_onehot = to_categorical(test_y)"
   ]
  },
  {
   "cell_type": "code",
   "execution_count": 4,
   "metadata": {},
   "outputs": [],
   "source": [
    "def init_model_v2(input_shape, output_shape):\n",
    "\n",
    "    inp = Input(shape=input_shape)\n",
    "    X = LSTM(32)(inp)\n",
    "    X = BatchNormalization()(X)\n",
    "    X = Dropout(0.5)(X)\n",
    "    X = Dense(64, activation='relu')(X)\n",
    "    X = BatchNormalization()(X)\n",
    "    X = Dropout(0.3)(X)\n",
    "    out = Dense(output_shape, activation='softmax')(X)\n",
    "\n",
    "    model = Model(inp, outputs=out)\n",
    "\n",
    "    model.compile(optimizer='adam', loss='categorical_crossentropy', metrics=['acc'])\n",
    "\n",
    "    return model"
   ]
  },
  {
   "cell_type": "code",
   "execution_count": 5,
   "metadata": {},
   "outputs": [
    {
     "name": "stdout",
     "output_type": "stream",
     "text": [
      "Model: \"model\"\n",
      "_________________________________________________________________\n",
      "Layer (type)                 Output Shape              Param #   \n",
      "=================================================================\n",
      "input_1 (InputLayer)         [(None, 20, 53)]          0         \n",
      "_________________________________________________________________\n",
      "lstm (LSTM)                  (None, 32)                11008     \n",
      "_________________________________________________________________\n",
      "batch_normalization (BatchNo (None, 32)                128       \n",
      "_________________________________________________________________\n",
      "dropout (Dropout)            (None, 32)                0         \n",
      "_________________________________________________________________\n",
      "dense (Dense)                (None, 64)                2112      \n",
      "_________________________________________________________________\n",
      "batch_normalization_1 (Batch (None, 64)                256       \n",
      "_________________________________________________________________\n",
      "dropout_1 (Dropout)          (None, 64)                0         \n",
      "_________________________________________________________________\n",
      "dense_1 (Dense)              (None, 12)                780       \n",
      "=================================================================\n",
      "Total params: 14,284\n",
      "Trainable params: 14,092\n",
      "Non-trainable params: 192\n",
      "_________________________________________________________________\n"
     ]
    }
   ],
   "source": [
    "model_v2 = init_model_v2(train_x.shape[1:], train_y_onehot.shape[1])\n",
    "model_v2.summary()"
   ]
  },
  {
   "cell_type": "code",
   "execution_count": 9,
   "metadata": {},
   "outputs": [
    {
     "name": "stdout",
     "output_type": "stream",
     "text": [
      "Epoch 1/20\n",
      "925/925 [==============================] - 63s 68ms/step - loss: 0.3311 - acc: 0.8987 - val_loss: 1.2398 - val_acc: 0.8387 - lr: 0.0010\n",
      "Epoch 2/20\n",
      "925/925 [==============================] - 63s 68ms/step - loss: 0.0147 - acc: 0.9967 - val_loss: 1.4700 - val_acc: 0.8497 - lr: 0.0010\n",
      "Epoch 3/20\n",
      "925/925 [==============================] - 62s 68ms/step - loss: 0.0061 - acc: 0.9987 - val_loss: 1.7293 - val_acc: 0.8526 - lr: 0.0010\n",
      "Epoch 4/20\n",
      "925/925 [==============================] - ETA: 0s - loss: 0.0048 - acc: 0.9990\n",
      "Epoch 00004: ReduceLROnPlateau reducing learning rate to 0.0005000000237487257.\n",
      "925/925 [==============================] - 62s 67ms/step - loss: 0.0048 - acc: 0.9990 - val_loss: 1.6651 - val_acc: 0.8639 - lr: 0.0010\n",
      "Epoch 5/20\n",
      "925/925 [==============================] - 63s 68ms/step - loss: 0.0022 - acc: 0.9995 - val_loss: 1.7781 - val_acc: 0.8688 - lr: 5.0000e-04\n",
      "Epoch 6/20\n",
      "925/925 [==============================] - 60s 65ms/step - loss: 0.0017 - acc: 0.9996 - val_loss: 1.9215 - val_acc: 0.8705 - lr: 5.0000e-04\n",
      "Epoch 7/20\n",
      "924/925 [============================>.] - ETA: 0s - loss: 0.0023 - acc: 0.9994\n",
      "Epoch 00007: ReduceLROnPlateau reducing learning rate to 0.0002500000118743628.\n",
      "925/925 [==============================] - 58s 63ms/step - loss: 0.0023 - acc: 0.9994 - val_loss: 1.9400 - val_acc: 0.8672 - lr: 5.0000e-04\n",
      "Epoch 8/20\n",
      "925/925 [==============================] - 58s 63ms/step - loss: 0.0014 - acc: 0.9996 - val_loss: 1.9716 - val_acc: 0.8692 - lr: 2.5000e-04\n",
      "Epoch 9/20\n",
      "925/925 [==============================] - 58s 63ms/step - loss: 0.0012 - acc: 0.9997 - val_loss: 2.1448 - val_acc: 0.8671 - lr: 2.5000e-04\n",
      "Epoch 10/20\n",
      "924/925 [============================>.] - ETA: 0s - loss: 0.0011 - acc: 0.9997\n",
      "Epoch 00010: ReduceLROnPlateau reducing learning rate to 0.0001250000059371814.\n",
      "925/925 [==============================] - 58s 63ms/step - loss: 0.0011 - acc: 0.9997 - val_loss: 2.2081 - val_acc: 0.8697 - lr: 2.5000e-04\n",
      "Epoch 00010: early stopping\n",
      "15611/15611 [==============================] - 51s 3ms/step - loss: 1.9215 - acc: 0.8705\n",
      "\n",
      "Score on validation: loss of 1.92 ; acc of 87.05%\n",
      "\n",
      "15449/15449 [==============================] - 49s 3ms/step - loss: 1.5041 - acc: 0.8803\n",
      "\n",
      "Score on Test: loss of 1.50 ; acc of 88.03%\n",
      "\n"
     ]
    }
   ],
   "source": [
    "model_v2, history = train_model(init_model_v2, batch_size=1024, use_saved=False)"
   ]
  },
  {
   "cell_type": "code",
   "execution_count": 13,
   "metadata": {},
   "outputs": [
    {
     "data": {
      "image/png": "[encoded data removed]",
      "text/plain": [
       "<Figure size 720x360 with 2 Axes>"
      ]
     },
     "metadata": {
      "needs_background": "light"
     },
     "output_type": "display_data"
    }
   ],
   "source": [
    "visualize_perf(history)"
   ]
  },
  {
   "cell_type": "code",
   "execution_count": 14,
   "metadata": {},
   "outputs": [
    {
     "data": {
      "image/png": "[encoded data removed]",
      "text/plain": [
       "<Figure size 1152x360 with 2 Axes>"
      ]
     },
     "metadata": {
      "needs_background": "light"
     },
     "output_type": "display_data"
    }
   ],
   "source": [
    "visualize_over_dataset(model_v2)"
   ]
  }
 ],
 "metadata": {
  "kernelspec": {
   "display_name": "Python 3",
   "language": "python",
   "name": "python3"
  },
  "language_info": {
   "codemirror_mode": {
    "name": "ipython",
    "version": 3
   },
   "file_extension": ".py",
   "mimetype": "text/x-python",
   "name": "python",
   "nbconvert_exporter": "python",
   "pygments_lexer": "ipython3",
   "version": "3.8.6"
  }
 },
 "nbformat": 4,
 "nbformat_minor": 4
}
